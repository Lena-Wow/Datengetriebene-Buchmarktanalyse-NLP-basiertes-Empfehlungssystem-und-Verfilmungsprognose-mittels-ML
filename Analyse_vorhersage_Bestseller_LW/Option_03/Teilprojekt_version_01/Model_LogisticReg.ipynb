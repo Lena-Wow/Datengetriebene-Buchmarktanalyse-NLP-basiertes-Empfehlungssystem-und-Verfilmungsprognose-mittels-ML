{
 "cells": [
  {
   "cell_type": "code",
   "execution_count": 6,
   "id": "7d0a8aaa-135f-44af-99b7-083e4c0f533e",
   "metadata": {},
   "outputs": [
    {
     "name": "stdout",
     "output_type": "stream",
     "text": [
      "              precision    recall  f1-score   support\n",
      "\n",
      "         0.0       0.68      0.85      0.76       123\n",
      "         1.0       0.65      0.41      0.50        83\n",
      "\n",
      "    accuracy                           0.67       206\n",
      "   macro avg       0.67      0.63      0.63       206\n",
      "weighted avg       0.67      0.67      0.66       206\n",
      "\n",
      "Confusion Matrix:\n",
      "[[105  18]\n",
      " [ 49  34]]\n"
     ]
    },
    {
     "data": {
      "image/png": "[encoded data removed]",
      "text/plain": [
       "<Figure size 640x480 with 2 Axes>"
      ]
     },
     "metadata": {},
     "output_type": "display_data"
    }
   ],
   "source": [
    "import pandas as pd\n",
    "from sklearn.model_selection import train_test_split\n",
    "from sklearn.pipeline import Pipeline\n",
    "from sklearn.preprocessing import OneHotEncoder, StandardScaler\n",
    "from sklearn.compose import ColumnTransformer\n",
    "from sklearn.linear_model import LogisticRegression\n",
    "from sklearn.metrics import classification_report\n",
    "from sklearn.base import BaseEstimator, TransformerMixin\n",
    "\n",
    "class AuthorRatingMapper(BaseEstimator, TransformerMixin):\n",
    "    def __init__(self):\n",
    "        self.rating_map = {\n",
    "            \"Novice\": 1,\n",
    "            \"Intermediate\": 2,\n",
    "            \"Famous\": 3,\n",
    "            \"Excellent\": 4\n",
    "        }\n",
    "    def fit(self, X, y=None):\n",
    "        return self\n",
    "    def transform(self, X):\n",
    "        X = X.copy()\n",
    "        if 'Author_Rating' in X.columns:\n",
    "            X['Author_Rating'] = X['Author_Rating'].map(self.rating_map)\n",
    "        return X\n",
    "\n",
    "df = pd.read_csv(\"book_data_clean.csv\", sep=\";\", encoding=\"utf-8\")\n",
    "\n",
    "y = df['Adapted_to_Film']\n",
    "X = df.drop(columns=['Adapted_to_Film', 'Book_Name'])\n",
    "\n",
    "top_publishers = X['Publisher'].value_counts().nlargest(10).index\n",
    "X['Publisher'] = X['Publisher'].where(X['Publisher'].isin(top_publishers), other='other')\n",
    "top_authors = X['Author'].value_counts().nlargest(10).index\n",
    "X['Author'] = X['Author'].where(X['Author'].isin(top_authors), other='Sonstige')\n",
    "\n",
    "numerical_features = ['Publishing_Year', 'Author_Rating', 'Average_Rating', 'Rating_Count', 'Gross_Sales_EUR']\n",
    "categorical_features = ['Language_Code', 'Genre', 'Publisher', 'Author']\n",
    "\n",
    "preprocessor = ColumnTransformer(\n",
    "    transformers=[\n",
    "        ('num', StandardScaler(), numerical_features),\n",
    "        ('cat', OneHotEncoder(handle_unknown='ignore'), categorical_features)])\n",
    "\n",
    "pipeline = Pipeline(steps=[\n",
    "    ('author_rating_mapper', AuthorRatingMapper()),\n",
    "    ('preprocessing', preprocessor),\n",
    "    ('classifier', LogisticRegression(max_iter=1000, random_state=42))\n",
    "])\n",
    "\n",
    "X_train, X_test, y_train, y_test = train_test_split(X, y, test_size=0.2, random_state=42)\n",
    "\n",
    "pipeline.fit(X_train, y_train)\n",
    "\n",
    "y_pred = pipeline.predict(X_test)\n",
    "print(classification_report(y_test, y_pred))\n",
    "\n",
    "import matplotlib.pyplot as plt\n",
    "from sklearn.metrics import confusion_matrix, ConfusionMatrixDisplay\n",
    "\n",
    "# Vorhersagen (du hast y_pred schon)\n",
    "# y_pred = pipeline.predict(X_test)\n",
    "\n",
    "# Confusion Matrix berechnen\n",
    "cm = confusion_matrix(y_test, y_pred)\n",
    "\n",
    "# Confusion Matrix ausgeben\n",
    "print(\"Confusion Matrix:\")\n",
    "print(cm)\n",
    "\n",
    "# Confusion Matrix visualisieren\n",
    "disp = ConfusionMatrixDisplay(confusion_matrix=cm, display_labels=pipeline.classes_)\n",
    "disp.plot(cmap=plt.cm.Blues)\n",
    "plt.title(\"Confusion Matrix\")\n",
    "plt.show()\n",
    "\n"
   ]
  }
 ],
 "metadata": {
  "kernelspec": {
   "display_name": "Python 3 (ipykernel)",
   "language": "python",
   "name": "python3"
  },
  "language_info": {
   "codemirror_mode": {
    "name": "ipython",
    "version": 3
   },
   "file_extension": ".py",
   "mimetype": "text/x-python",
   "name": "python",
   "nbconvert_exporter": "python",
   "pygments_lexer": "ipython3",
   "version": "3.13.2"
  }
 },
 "nbformat": 4,
 "nbformat_minor": 5
}
