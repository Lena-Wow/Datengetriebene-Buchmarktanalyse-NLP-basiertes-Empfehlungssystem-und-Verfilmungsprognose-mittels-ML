{
 "cells": [
  {
   "cell_type": "code",
   "execution_count": null,
   "id": "ba2d3085-6e48-4c3f-a445-259c26d202af",
   "metadata": {},
   "outputs": [],
   "source": [
    "import pandas as pd\n",
    "from sklearn.model_selection import train_test_split #Daten in Trainings- und Testdaten werden  aufgeteilt. Das ist wichtig, um später objektiv zu überprüfen, wie gut das Modell generalisiert.\n",
    "from sklearn.pipeline import Pipeline #Pipeline erlaubt, mehrere Schritte (z. B. Vorverarbeitung + Modelltraining) sauber zusammenzufassen.\n",
    "from sklearn.preprocessing import OneHotEncoder, StandardScaler #StandardScaler: Skaliert numerische Werte (Mittelwert 0, Standardabweichung 1),OneHotEncoder: Wandelt Kategorien  in numerische Spalten (Dummy-Variablen) um.\n",
    "from sklearn.compose import ColumnTransformer #erlaubt unterschiedliche Vorverarbeitung für numerische und kategoriale Spalten anzuwenden.\n",
    "##########################################################\n",
    "from sklearn.ensemble import RandomForestClassifier\n",
    "from sklearn.metrics import classification_report # du eine Auswertung des Modells: Genauigkeit, Präzision, Recall, F1-Score – für beide Klassen (verfilmt / nicht verfilmt).\n",
    "##########################################################\n",
    "# Bereinigte Datei laden\n",
    "df = pd.read_csv(\"book_data_clean.csv\", sep=\";\", encoding=\"utf-8\")\n",
    "y = df['Adapted_to_Film']# Zielvariable/Label. Das Modell soll lernen, ob ein Buch verfilmt wurde (1) oder nicht (0).\n",
    "X = df.drop(columns=['Adapted_to_Film', 'Book_Name'])# es wird ZIELspalte entfernt und BOOK_Name , das stört im Model\n",
    "#Publisher & Autoren gruppieren\n",
    "top_publishers = X['Publisher'].value_counts().nlargest(10).index #Top 10 Publisher behalten.\n",
    "X['Publisher'] = X['Publisher'].where(X['Publisher'].isin(top_publishers), other='other')#Alle anderen als \"other\" gruppiert\n",
    "\n",
    "\n"
   ]
  }
 ],
 "metadata": {
  "kernelspec": {
   "display_name": "Python 3 (ipykernel)",
   "language": "python",
   "name": "python3"
  },
  "language_info": {
   "codemirror_mode": {
    "name": "ipython",
    "version": 3
   },
   "file_extension": ".py",
   "mimetype": "text/x-python",
   "name": "python",
   "nbconvert_exporter": "python",
   "pygments_lexer": "ipython3",
   "version": "3.13.2"
  }
 },
 "nbformat": 4,
 "nbformat_minor": 5
}
