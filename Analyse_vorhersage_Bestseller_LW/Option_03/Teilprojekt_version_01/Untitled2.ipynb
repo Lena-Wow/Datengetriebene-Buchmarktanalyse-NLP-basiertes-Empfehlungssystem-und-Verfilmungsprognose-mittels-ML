{
 "cells": [
  {
   "cell_type": "code",
   "execution_count": 2,
   "id": "3d8e6ff8-7e78-4f1f-bfef-94f97e11cbc5",
   "metadata": {},
   "outputs": [
    {
     "data": {
      "text/html": [
       "<div>\n",
       "<style scoped>\n",
       "    .dataframe tbody tr th:only-of-type {\n",
       "        vertical-align: middle;\n",
       "    }\n",
       "\n",
       "    .dataframe tbody tr th {\n",
       "        vertical-align: top;\n",
       "    }\n",
       "\n",
       "    .dataframe thead th {\n",
       "        text-align: right;\n",
       "    }\n",
       "</style>\n",
       "<table border=\"1\" class=\"dataframe\">\n",
       "  <thead>\n",
       "    <tr style=\"text-align: right;\">\n",
       "      <th></th>\n",
       "      <th>Nummer</th>\n",
       "      <th>Titel</th>\n",
       "      <th>Inhalt</th>\n",
       "    </tr>\n",
       "  </thead>\n",
       "  <tbody>\n",
       "    <tr>\n",
       "      <th>0</th>\n",
       "      <td>APP.3.2.A20</td>\n",
       "      <td>Benennung von Anzusprechenden (S) [Zentrale Ve...</td>\n",
       "      <td>Bei umfangreichen Webangeboten SOLLTE die Inst...</td>\n",
       "    </tr>\n",
       "  </tbody>\n",
       "</table>\n",
       "</div>"
      ],
      "text/plain": [
       "        Nummer                                              Titel  \\\n",
       "0  APP.3.2.A20  Benennung von Anzusprechenden (S) [Zentrale Ve...   \n",
       "\n",
       "                                              Inhalt  \n",
       "0  Bei umfangreichen Webangeboten SOLLTE die Inst...  "
      ]
     },
     "execution_count": 2,
     "metadata": {},
     "output_type": "execute_result"
    }
   ],
   "source": [
    "from bs4 import BeautifulSoup\n",
    "import pandas as pd\n",
    "\n",
    "html = \"\"\"\n",
    "<h1>APP.3.2.A20 Benennung von Anzusprechenden (S) [Zentrale Verwaltung]</h1>\n",
    "<p>Bei umfangreichen Webangeboten SOLLTE die Institution zentrale Anzusprechende für die Webangebote bestimmen. Es SOLLTEN Prozesse, Vorgehensweisen und Zuständige für Probleme oder Sicherheitsvorfälle benannt werden.</p>\n",
    "<p>Die Institution SOLLTE eine Kontaktmöglichkeit auf ihrer Webseite veröffentlichen, über die Sicherheitsprobleme an die Institution gemeldet werden können. Für die Behandlung von externen Sicherheitsmeldungen SOLLTE die Institution Prozesse definieren.</p>\n",
    "\"\"\"\n",
    "\n",
    "# HTML parsen\n",
    "soup = BeautifulSoup(html, 'html.parser')\n",
    "\n",
    "# Titelzeile aufteilen\n",
    "h1 = soup.find(\"h1\").text.strip()\n",
    "nummer, titel = h1.split(\" \", 1)\n",
    "\n",
    "# Inhalt aus <p>-Tags kombinieren\n",
    "paragraphs = soup.find_all(\"p\")\n",
    "inhalt = \" \".join(p.text.strip() for p in paragraphs)\n",
    "\n",
    "# In DataFrame schreiben\n",
    "df = pd.DataFrame([{\n",
    "    \"Nummer\": nummer,\n",
    "    \"Titel\": titel,\n",
    "    \"Inhalt\": inhalt\n",
    "}])\n",
    "\n",
    "df\n"
   ]
  }
 ],
 "metadata": {
  "kernelspec": {
   "display_name": "Python 3 (ipykernel)",
   "language": "python",
   "name": "python3"
  },
  "language_info": {
   "codemirror_mode": {
    "name": "ipython",
    "version": 3
   },
   "file_extension": ".py",
   "mimetype": "text/x-python",
   "name": "python",
   "nbconvert_exporter": "python",
   "pygments_lexer": "ipython3",
   "version": "3.13.2"
  }
 },
 "nbformat": 4,
 "nbformat_minor": 5
}
